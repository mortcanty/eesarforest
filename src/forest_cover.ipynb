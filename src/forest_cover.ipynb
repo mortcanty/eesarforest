{
 "cells": [
  {
   "cell_type": "code",
   "execution_count": null,
   "id": "a1fc5763",
   "metadata": {},
   "outputs": [],
   "source": [
    "# Authenticate (just first time)\n",
    "import ee\n",
    "ee.Authenticate()"
   ]
  },
  {
   "cell_type": "code",
   "execution_count": 1,
   "id": "d9e0d57a",
   "metadata": {},
   "outputs": [
    {
     "data": {
      "application/vnd.jupyter.widget-view+json": {
       "model_id": "c134ed94e2484d20add16dc8eb75a59a",
       "version_major": 2,
       "version_minor": 0
      },
      "text/plain": [
       "Map(center=[51.0, 6.4], controls=(DrawControl(options=['position'], polygon={'shapeOptions': {'fillColor': '#0…"
      ]
     },
     "metadata": {},
     "output_type": "display_data"
    },
    {
     "data": {
      "application/vnd.jupyter.widget-view+json": {
       "model_id": "73af22ee049e4e7fa326c7cd56ebcfac",
       "version_major": 2,
       "version_minor": 0
      },
      "text/plain": [
       "VBox(children=(HBox(children=(RadioButtons(description='Platform:', layout=Layout(width='200px'), options=('Bo…"
      ]
     },
     "metadata": {},
     "output_type": "display_data"
    }
   ],
   "source": [
    "# Run the interface.\n",
    "import ee\n",
    "ee.Initialize()\n",
    "from eesar.forest import run\n",
    "run()"
   ]
  },
  {
   "cell_type": "code",
   "execution_count": null,
   "id": "ca1fda4a",
   "metadata": {},
   "outputs": [],
   "source": []
  }
 ],
 "metadata": {
  "kernelspec": {
   "display_name": "Python 3",
   "language": "python",
   "name": "python3"
  },
  "language_info": {
   "codemirror_mode": {
    "name": "ipython",
    "version": 3
   },
   "file_extension": ".py",
   "mimetype": "text/x-python",
   "name": "python",
   "nbconvert_exporter": "python",
   "pygments_lexer": "ipython3",
   "version": "3.8.5"
  }
 },
 "nbformat": 4,
 "nbformat_minor": 5
}
