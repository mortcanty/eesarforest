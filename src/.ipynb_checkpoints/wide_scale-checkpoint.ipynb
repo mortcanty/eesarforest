{
 "cells": [
  {
   "cell_type": "markdown",
   "metadata": {
    "id": "hvhB7oMGbN6P"
   },
   "source": [
    "### Preliminaries"
   ]
  },
  {
   "cell_type": "code",
   "execution_count": 1,
   "metadata": {
    "id": "aj5YdExCggWy"
   },
   "outputs": [
    {
     "data": {
      "application/vnd.jupyter.widget-view+json": {
       "model_id": "71c18a2c6b9e43a7955c136f830de582",
       "version_major": 2,
       "version_minor": 0
      },
      "text/plain": [
       "Map(center=[51.0, 6.4], controls=(DrawControl(options=['position'], polygon={'shapeOptions': {'fillColor': '#0…"
      ]
     },
     "metadata": {},
     "output_type": "display_data"
    },
    {
     "data": {
      "application/vnd.jupyter.widget-view+json": {
       "model_id": "c2fd04bf43074617a83122bc7455186e",
       "version_major": 2,
       "version_minor": 0
      },
      "text/plain": [
       "VBox(children=(HBox(children=(RadioButtons(description='Platform:', layout=Layout(width='200px'), options=('Bo…"
      ]
     },
     "metadata": {},
     "output_type": "display_data"
    }
   ],
   "source": [
    "# Run the interface.\n",
    "import ee\n",
    "ee.Initialize()\n",
    "from eesar.wide import run\n",
    "run()"
   ]
  },
  {
   "cell_type": "code",
   "execution_count": null,
   "metadata": {},
   "outputs": [],
   "source": []
  }
 ],
 "metadata": {
  "colab": {
   "collapsed_sections": [],
   "name": "Tutorial_pt_4.ipynb",
   "provenance": []
  },
  "kernelspec": {
   "display_name": "Python 3",
   "language": "python",
   "name": "python3"
  },
  "language_info": {
   "codemirror_mode": {
    "name": "ipython",
    "version": 3
   },
   "file_extension": ".py",
   "mimetype": "text/x-python",
   "name": "python",
   "nbconvert_exporter": "python",
   "pygments_lexer": "ipython3",
   "version": "3.8.5"
  }
 },
 "nbformat": 4,
 "nbformat_minor": 1
}
